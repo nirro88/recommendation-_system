{
 "cells": [
  {
   "cell_type": "code",
   "execution_count": 12,
   "metadata": {},
   "outputs": [],
   "source": [
    "import numpy as np\n",
    "import pandas as pd\n",
    "import matplotlib.pyplot as plt\n",
    "import seaborn as sns\n",
    "from sklearn.feature_extraction.text import TfidfVectorizer\n",
    "from sklearn.metrics.pairwise import linear_kernel"
   ]
  },
  {
   "cell_type": "markdown",
   "metadata": {},
   "source": [
    "#  upload the datasets \n"
   ]
  },
  {
   "cell_type": "code",
   "execution_count": 13,
   "metadata": {},
   "outputs": [],
   "source": [
    "rating_path = r'C:\\Users\\nirro\\Desktop\\machine learning\\interviews\\data tapas\\ratings.csv'\n",
    "rating_data = pd.read_csv(rating_path)\n",
    "movies_metadata_path = r'C:\\Users\\nirro\\Desktop\\machine learning\\interviews\\data tapas\\movies_metadata.csv'\n",
    "movies_metadata_data = pd.read_csv(movies_metadata_path, usecols=['id', 'title', 'genres'])\n"
   ]
  },
  {
   "cell_type": "code",
   "execution_count": 14,
   "metadata": {},
   "outputs": [
    {
     "data": {
      "text/html": [
       "<div>\n",
       "<style scoped>\n",
       "    .dataframe tbody tr th:only-of-type {\n",
       "        vertical-align: middle;\n",
       "    }\n",
       "\n",
       "    .dataframe tbody tr th {\n",
       "        vertical-align: top;\n",
       "    }\n",
       "\n",
       "    .dataframe thead th {\n",
       "        text-align: right;\n",
       "    }\n",
       "</style>\n",
       "<table border=\"1\" class=\"dataframe\">\n",
       "  <thead>\n",
       "    <tr style=\"text-align: right;\">\n",
       "      <th></th>\n",
       "      <th>genres</th>\n",
       "      <th>id</th>\n",
       "      <th>title</th>\n",
       "    </tr>\n",
       "  </thead>\n",
       "  <tbody>\n",
       "    <tr>\n",
       "      <th>0</th>\n",
       "      <td>[{'id': 16, 'name': 'Animation'}, {'id': 35, '...</td>\n",
       "      <td>862</td>\n",
       "      <td>Toy Story</td>\n",
       "    </tr>\n",
       "    <tr>\n",
       "      <th>1</th>\n",
       "      <td>[{'id': 12, 'name': 'Adventure'}, {'id': 14, '...</td>\n",
       "      <td>8844</td>\n",
       "      <td>Jumanji</td>\n",
       "    </tr>\n",
       "    <tr>\n",
       "      <th>2</th>\n",
       "      <td>[{'id': 10749, 'name': 'Romance'}, {'id': 35, ...</td>\n",
       "      <td>15602</td>\n",
       "      <td>Grumpier Old Men</td>\n",
       "    </tr>\n",
       "    <tr>\n",
       "      <th>3</th>\n",
       "      <td>[{'id': 35, 'name': 'Comedy'}, {'id': 18, 'nam...</td>\n",
       "      <td>31357</td>\n",
       "      <td>Waiting to Exhale</td>\n",
       "    </tr>\n",
       "    <tr>\n",
       "      <th>4</th>\n",
       "      <td>[{'id': 35, 'name': 'Comedy'}]</td>\n",
       "      <td>11862</td>\n",
       "      <td>Father of the Bride Part II</td>\n",
       "    </tr>\n",
       "  </tbody>\n",
       "</table>\n",
       "</div>"
      ],
      "text/plain": [
       "                                              genres     id  \\\n",
       "0  [{'id': 16, 'name': 'Animation'}, {'id': 35, '...    862   \n",
       "1  [{'id': 12, 'name': 'Adventure'}, {'id': 14, '...   8844   \n",
       "2  [{'id': 10749, 'name': 'Romance'}, {'id': 35, ...  15602   \n",
       "3  [{'id': 35, 'name': 'Comedy'}, {'id': 18, 'nam...  31357   \n",
       "4                     [{'id': 35, 'name': 'Comedy'}]  11862   \n",
       "\n",
       "                         title  \n",
       "0                    Toy Story  \n",
       "1                      Jumanji  \n",
       "2             Grumpier Old Men  \n",
       "3            Waiting to Exhale  \n",
       "4  Father of the Bride Part II  "
      ]
     },
     "execution_count": 14,
     "metadata": {},
     "output_type": "execute_result"
    }
   ],
   "source": [
    "movies_metadata_data.head()"
   ]
  },
  {
   "cell_type": "code",
   "execution_count": 15,
   "metadata": {},
   "outputs": [
    {
     "data": {
      "text/html": [
       "<div>\n",
       "<style scoped>\n",
       "    .dataframe tbody tr th:only-of-type {\n",
       "        vertical-align: middle;\n",
       "    }\n",
       "\n",
       "    .dataframe tbody tr th {\n",
       "        vertical-align: top;\n",
       "    }\n",
       "\n",
       "    .dataframe thead th {\n",
       "        text-align: right;\n",
       "    }\n",
       "</style>\n",
       "<table border=\"1\" class=\"dataframe\">\n",
       "  <thead>\n",
       "    <tr style=\"text-align: right;\">\n",
       "      <th></th>\n",
       "      <th>userId</th>\n",
       "      <th>movieId</th>\n",
       "      <th>rating</th>\n",
       "      <th>timestamp</th>\n",
       "    </tr>\n",
       "  </thead>\n",
       "  <tbody>\n",
       "    <tr>\n",
       "      <th>0</th>\n",
       "      <td>1</td>\n",
       "      <td>110</td>\n",
       "      <td>1.0</td>\n",
       "      <td>1425941529</td>\n",
       "    </tr>\n",
       "    <tr>\n",
       "      <th>1</th>\n",
       "      <td>1</td>\n",
       "      <td>147</td>\n",
       "      <td>4.5</td>\n",
       "      <td>1425942435</td>\n",
       "    </tr>\n",
       "    <tr>\n",
       "      <th>2</th>\n",
       "      <td>1</td>\n",
       "      <td>858</td>\n",
       "      <td>5.0</td>\n",
       "      <td>1425941523</td>\n",
       "    </tr>\n",
       "    <tr>\n",
       "      <th>3</th>\n",
       "      <td>1</td>\n",
       "      <td>1221</td>\n",
       "      <td>5.0</td>\n",
       "      <td>1425941546</td>\n",
       "    </tr>\n",
       "    <tr>\n",
       "      <th>4</th>\n",
       "      <td>1</td>\n",
       "      <td>1246</td>\n",
       "      <td>5.0</td>\n",
       "      <td>1425941556</td>\n",
       "    </tr>\n",
       "  </tbody>\n",
       "</table>\n",
       "</div>"
      ],
      "text/plain": [
       "   userId  movieId  rating   timestamp\n",
       "0       1      110     1.0  1425941529\n",
       "1       1      147     4.5  1425942435\n",
       "2       1      858     5.0  1425941523\n",
       "3       1     1221     5.0  1425941546\n",
       "4       1     1246     5.0  1425941556"
      ]
     },
     "execution_count": 15,
     "metadata": {},
     "output_type": "execute_result"
    }
   ],
   "source": [
    "rating_data.head()"
   ]
  },
  {
   "cell_type": "markdown",
   "metadata": {},
   "source": [
    "#  take a sub-sample of the rating data to make the process easy \n"
   ]
  },
  {
   "cell_type": "markdown",
   "metadata": {},
   "source": [
    "use a sample of 30%\n",
    "because different users have different amount of voting , in order to get representation of them all\n",
    "will use group by and after this take a sample of each user fraction"
   ]
  },
  {
   "cell_type": "code",
   "execution_count": 16,
   "metadata": {},
   "outputs": [],
   "source": [
    "group_userid_rating_data = rating_data.groupby(\"userId\")\n",
    "sub_rating_data_30 = group_userid_rating_data.apply(lambda x: x.sample(frac=0.3))\n",
    "s = array = np.arange(len(sub_rating_data_30))\n",
    "sub_rating_data_30=sub_rating_data_30.set_index([s])"
   ]
  },
  {
   "cell_type": "code",
   "execution_count": 17,
   "metadata": {},
   "outputs": [
    {
     "data": {
      "text/plain": [
       "(7802471, 4)"
      ]
     },
     "execution_count": 17,
     "metadata": {},
     "output_type": "execute_result"
    }
   ],
   "source": [
    "sub_rating_data_30.shape"
   ]
  },
  {
   "cell_type": "code",
   "execution_count": 18,
   "metadata": {},
   "outputs": [],
   "source": [
    "sub_rating_data_30.to_csv(r'C:\\Users\\nirro\\Desktop\\machine learning\\interviews\\data tapas\\sub_rating_data_30.csv')\n"
   ]
  },
  {
   "cell_type": "code",
   "execution_count": 24,
   "metadata": {},
   "outputs": [],
   "source": [
    "sub_rating_data_30_path = r'C:\\Users\\nirro\\Desktop\\machine learning\\interviews\\data tapas\\sub_rating_data_30.csv'\n",
    "sub_rating_data_30 = pd.read_csv(sub_rating_data_30_path).drop('Unnamed: 0', axis=1)"
   ]
  },
  {
   "cell_type": "code",
   "execution_count": 25,
   "metadata": {},
   "outputs": [
    {
     "data": {
      "text/html": [
       "<div>\n",
       "<style scoped>\n",
       "    .dataframe tbody tr th:only-of-type {\n",
       "        vertical-align: middle;\n",
       "    }\n",
       "\n",
       "    .dataframe tbody tr th {\n",
       "        vertical-align: top;\n",
       "    }\n",
       "\n",
       "    .dataframe thead th {\n",
       "        text-align: right;\n",
       "    }\n",
       "</style>\n",
       "<table border=\"1\" class=\"dataframe\">\n",
       "  <thead>\n",
       "    <tr style=\"text-align: right;\">\n",
       "      <th></th>\n",
       "      <th>userId</th>\n",
       "      <th>movieId</th>\n",
       "      <th>rating</th>\n",
       "      <th>timestamp</th>\n",
       "    </tr>\n",
       "  </thead>\n",
       "  <tbody>\n",
       "    <tr>\n",
       "      <th>0</th>\n",
       "      <td>1</td>\n",
       "      <td>4226</td>\n",
       "      <td>4.0</td>\n",
       "      <td>1425942228</td>\n",
       "    </tr>\n",
       "    <tr>\n",
       "      <th>1</th>\n",
       "      <td>1</td>\n",
       "      <td>69844</td>\n",
       "      <td>5.0</td>\n",
       "      <td>1425942139</td>\n",
       "    </tr>\n",
       "    <tr>\n",
       "      <th>2</th>\n",
       "      <td>1</td>\n",
       "      <td>99114</td>\n",
       "      <td>4.0</td>\n",
       "      <td>1425941667</td>\n",
       "    </tr>\n",
       "    <tr>\n",
       "      <th>3</th>\n",
       "      <td>1</td>\n",
       "      <td>98809</td>\n",
       "      <td>0.5</td>\n",
       "      <td>1425942640</td>\n",
       "    </tr>\n",
       "    <tr>\n",
       "      <th>4</th>\n",
       "      <td>1</td>\n",
       "      <td>58559</td>\n",
       "      <td>4.0</td>\n",
       "      <td>1425942007</td>\n",
       "    </tr>\n",
       "  </tbody>\n",
       "</table>\n",
       "</div>"
      ],
      "text/plain": [
       "   userId  movieId  rating   timestamp\n",
       "0       1     4226     4.0  1425942228\n",
       "1       1    69844     5.0  1425942139\n",
       "2       1    99114     4.0  1425941667\n",
       "3       1    98809     0.5  1425942640\n",
       "4       1    58559     4.0  1425942007"
      ]
     },
     "execution_count": 25,
     "metadata": {},
     "output_type": "execute_result"
    }
   ],
   "source": [
    "sub_rating_data_30.head()"
   ]
  },
  {
   "cell_type": "markdown",
   "metadata": {},
   "source": [
    "first will drop all users that have less then 10 ratings"
   ]
  },
  {
   "cell_type": "markdown",
   "metadata": {},
   "source": [
    "# top 10 movies "
   ]
  },
  {
   "cell_type": "markdown",
   "metadata": {},
   "source": [
    "create a list of the top 10 movies\n",
    "use group-by and aggregate function for this"
   ]
  },
  {
   "cell_type": "code",
   "execution_count": 33,
   "metadata": {},
   "outputs": [],
   "source": [
    "group_rates_df = sub_rating_data_30.groupby(['movieId']).agg(\n",
    "    mean_rating=('rating', 'mean'),\n",
    "    median_rating=('rating','median'),\n",
    "    count_rating=('rating', 'count')\n",
    ").reset_index()"
   ]
  },
  {
   "cell_type": "code",
   "execution_count": 34,
   "metadata": {},
   "outputs": [
    {
     "data": {
      "text/html": [
       "<div>\n",
       "<style scoped>\n",
       "    .dataframe tbody tr th:only-of-type {\n",
       "        vertical-align: middle;\n",
       "    }\n",
       "\n",
       "    .dataframe tbody tr th {\n",
       "        vertical-align: top;\n",
       "    }\n",
       "\n",
       "    .dataframe thead th {\n",
       "        text-align: right;\n",
       "    }\n",
       "</style>\n",
       "<table border=\"1\" class=\"dataframe\">\n",
       "  <thead>\n",
       "    <tr style=\"text-align: right;\">\n",
       "      <th></th>\n",
       "      <th>movieId</th>\n",
       "      <th>mean_rating</th>\n",
       "      <th>median_rating</th>\n",
       "      <th>count_rating</th>\n",
       "    </tr>\n",
       "  </thead>\n",
       "  <tbody>\n",
       "    <tr>\n",
       "      <th>0</th>\n",
       "      <td>1</td>\n",
       "      <td>3.891974</td>\n",
       "      <td>4.0</td>\n",
       "      <td>19824</td>\n",
       "    </tr>\n",
       "    <tr>\n",
       "      <th>1</th>\n",
       "      <td>2</td>\n",
       "      <td>3.236553</td>\n",
       "      <td>3.0</td>\n",
       "      <td>7827</td>\n",
       "    </tr>\n",
       "    <tr>\n",
       "      <th>2</th>\n",
       "      <td>3</td>\n",
       "      <td>3.174914</td>\n",
       "      <td>3.0</td>\n",
       "      <td>4668</td>\n",
       "    </tr>\n",
       "    <tr>\n",
       "      <th>3</th>\n",
       "      <td>4</td>\n",
       "      <td>2.877574</td>\n",
       "      <td>3.0</td>\n",
       "      <td>874</td>\n",
       "    </tr>\n",
       "    <tr>\n",
       "      <th>4</th>\n",
       "      <td>5</td>\n",
       "      <td>3.089495</td>\n",
       "      <td>3.0</td>\n",
       "      <td>4598</td>\n",
       "    </tr>\n",
       "  </tbody>\n",
       "</table>\n",
       "</div>"
      ],
      "text/plain": [
       "   movieId  mean_rating  median_rating  count_rating\n",
       "0        1     3.891974            4.0         19824\n",
       "1        2     3.236553            3.0          7827\n",
       "2        3     3.174914            3.0          4668\n",
       "3        4     2.877574            3.0           874\n",
       "4        5     3.089495            3.0          4598"
      ]
     },
     "execution_count": 34,
     "metadata": {},
     "output_type": "execute_result"
    }
   ],
   "source": [
    "group_rates_df.head()"
   ]
  },
  {
   "cell_type": "code",
   "execution_count": 37,
   "metadata": {},
   "outputs": [],
   "source": [
    "movies_metadata_data = movies_metadata_data.rename(columns={'id':'movieId'})\n",
    "movies_metadata_data['movieId'] = movies_metadata_data['movieId'].astype(str)\n",
    "\n",
    "# drop some rows with invalid id like '1997-08-20'\n",
    "list_bad_movieId = []\n",
    "for ind, num in enumerate(movies_metadata_data['movieId']):\n",
    "    if '-' in num:\n",
    "       list_bad_movieId.append(ind)\n",
    "movies_metadata_data = movies_metadata_data.drop(list_bad_movieId, axis=0)\n",
    "movies_metadata_data['movieId'] = movies_metadata_data['movieId'].astype(int)"
   ]
  },
  {
   "cell_type": "markdown",
   "metadata": {},
   "source": [
    "## using IMDB's equation \n",
    "I saw that there is another method using IMDB's equation, IMDB's weighted rating (wr)\n",
    "v is the number of votes for the movie;\n",
    "m is the minimum votes required to be listed in the chart;\n",
    "R is the average rating of the movie; And\n",
    "C is the mean vote across the whole report"
   ]
  },
  {
   "cell_type": "code",
   "execution_count": 38,
   "metadata": {},
   "outputs": [
    {
     "name": "stdout",
     "output_type": "stream",
     "text": [
      "286            Once Were Warriors\n",
      "534          Sleepless in Seattle\n",
      "2649      The Thomas Crown Affair\n",
      "4020     The Million Dollar Hotel\n",
      "8546              Murder She Said\n",
      "11922              License to Wed\n",
      "Name: title, dtype: object\n"
     ]
    }
   ],
   "source": [
    "def calculate_rating_imdb(rating_data, quantile):\n",
    "    C = rating_data['mean_rating'].mean()\n",
    "    m = rating_data['count_rating'].quantile(quantile)\n",
    "    # top_movies = rating_data.loc[rating_data['count_rating'] >= m].copy()\n",
    "\n",
    "    v = rating_data['count_rating']\n",
    "    R = rating_data['mean_rating']\n",
    "    # Calculation based on the IMDB formula\n",
    "    wr = (v/(v+m) * R) + (m/(m+v) * C)\n",
    "    rating_data['total_rating_score'] = wr\n",
    "    return rating_data.sort_values(by='total_rating_score', ascending=False)\n",
    "\n",
    "group_rates_df = calculate_rating_imdb(rating_data=group_rates_df, quantile=0.90)\n",
    "top_ten_movies_indices = list(group_rates_df.iloc[:10, 0])\n",
    "top_ten_movies_names = movies_metadata_data.loc[movies_metadata_data['movieId'].isin(top_ten_movies_indices), 'title']\n",
    "print(top_ten_movies_names)"
   ]
  },
  {
   "cell_type": "markdown",
   "metadata": {},
   "source": [
    "assign the rating score values to movies_metadata_data"
   ]
  },
  {
   "cell_type": "code",
   "execution_count": 39,
   "metadata": {},
   "outputs": [],
   "source": [
    "movies_metadata_data = movies_metadata_data.merge(group_rates_df[['movieId', 'total_rating_score']], \n",
    "                                                  how='left', on='movieId')"
   ]
  },
  {
   "cell_type": "markdown",
   "metadata": {},
   "source": [
    "the two ways make different lists\n",
    "I didn't considered the time-stemp variable\n",
    "if a movie is old or new, a new movie can get a low score on 'count_rating_score'."
   ]
  },
  {
   "cell_type": "markdown",
   "metadata": {},
   "source": [
    "join the two tables by the id key"
   ]
  },
  {
   "cell_type": "code",
   "execution_count": 41,
   "metadata": {},
   "outputs": [],
   "source": [
    "all_data = sub_rating_data_30.merge(movies_metadata_data, how='left', on='movieId')"
   ]
  },
  {
   "cell_type": "code",
   "execution_count": null,
   "metadata": {},
   "outputs": [],
   "source": [
    "# ----------- missing values ---------------\n",
    "all_data_null = all_data.isnull().sum()\n",
    "# there is a lot of missing values in gender and title columns.\n",
    "# it was preferable to remove them in the beginning before the sub-sample but i will do it right now\n",
    "all_data = all_data.dropna()\n"
   ]
  },
  {
   "cell_type": "markdown",
   "metadata": {},
   "source": [
    "Next, write functions to extract the required information from genres."
   ]
  },
  {
   "cell_type": "code",
   "execution_count": 44,
   "metadata": {},
   "outputs": [],
   "source": [
    "def extract_genres(data):\n",
    "    list_genres_words = []\n",
    "    sub_list_genres_words = []\n",
    "    chars_to_remove = ['{', '}', '[',']']\n",
    "    list_bad_genres = []\n",
    "    for ind, row in enumerate(data.genres):\n",
    "        sc = set(chars_to_remove)\n",
    "        string_to_list = ''.join([c for c in row if c not in sc])\n",
    "        string_to_list = string_to_list.split(',')\n",
    "        for item in string_to_list:\n",
    "            if item == '':\n",
    "                list_bad_genres.append(ind)\n",
    "                continue\n",
    "            item = item.split(':')\n",
    "            item[0] = item[0].strip()\n",
    "            item[0] = item[0].strip(\"'\")\n",
    "            item[1] = item[1].strip()\n",
    "            item[1] = item[1].strip(\"'\")\n",
    "            if item[0] == 'name':\n",
    "                sub_list_genres_words.append(item[1])\n",
    "\n",
    "        list_genres_words.append(sub_list_genres_words)\n",
    "        sub_list_genres_words = []\n",
    "    for genres in list_genres_words:\n",
    "        new = ' '.join(genres)\n",
    "        sub_list_genres_words.append(new)\n",
    "    data['genres'] = sub_list_genres_words\n",
    "    return data\n",
    "\n",
    "all_data = all_data.reset_index().drop('index', axis=1)\n",
    "all_data = extract_genres(all_data)"
   ]
  },
  {
   "cell_type": "code",
   "execution_count": 46,
   "metadata": {},
   "outputs": [
    {
     "data": {
      "text/html": [
       "<div>\n",
       "<style scoped>\n",
       "    .dataframe tbody tr th:only-of-type {\n",
       "        vertical-align: middle;\n",
       "    }\n",
       "\n",
       "    .dataframe tbody tr th {\n",
       "        vertical-align: top;\n",
       "    }\n",
       "\n",
       "    .dataframe thead th {\n",
       "        text-align: right;\n",
       "    }\n",
       "</style>\n",
       "<table border=\"1\" class=\"dataframe\">\n",
       "  <thead>\n",
       "    <tr style=\"text-align: right;\">\n",
       "      <th></th>\n",
       "      <th>userId</th>\n",
       "      <th>movieId</th>\n",
       "      <th>rating</th>\n",
       "      <th>timestamp</th>\n",
       "      <th>genres</th>\n",
       "      <th>title</th>\n",
       "      <th>total_rating_score</th>\n",
       "    </tr>\n",
       "  </thead>\n",
       "  <tbody>\n",
       "    <tr>\n",
       "      <th>0</th>\n",
       "      <td>1</td>\n",
       "      <td>4226</td>\n",
       "      <td>4.0</td>\n",
       "      <td>1425942228</td>\n",
       "      <td>Comedy</td>\n",
       "      <td>Shriek If You Know What I Did Last Friday the ...</td>\n",
       "      <td>4.138367</td>\n",
       "    </tr>\n",
       "    <tr>\n",
       "      <th>1</th>\n",
       "      <td>1</td>\n",
       "      <td>58559</td>\n",
       "      <td>4.0</td>\n",
       "      <td>1425942007</td>\n",
       "      <td>Drama</td>\n",
       "      <td>Confession of a Child of the Century</td>\n",
       "      <td>4.153002</td>\n",
       "    </tr>\n",
       "    <tr>\n",
       "      <th>2</th>\n",
       "      <td>1</td>\n",
       "      <td>1968</td>\n",
       "      <td>4.0</td>\n",
       "      <td>1425942148</td>\n",
       "      <td>Drama Comedy Romance</td>\n",
       "      <td>Fools Rush In</td>\n",
       "      <td>3.789477</td>\n",
       "    </tr>\n",
       "    <tr>\n",
       "      <th>3</th>\n",
       "      <td>2</td>\n",
       "      <td>339</td>\n",
       "      <td>5.0</td>\n",
       "      <td>867041296</td>\n",
       "      <td>Comedy Drama</td>\n",
       "      <td>Night on Earth</td>\n",
       "      <td>3.497475</td>\n",
       "    </tr>\n",
       "    <tr>\n",
       "      <th>4</th>\n",
       "      <td>2</td>\n",
       "      <td>377</td>\n",
       "      <td>4.0</td>\n",
       "      <td>867041121</td>\n",
       "      <td>Horror</td>\n",
       "      <td>A Nightmare on Elm Street</td>\n",
       "      <td>3.473982</td>\n",
       "    </tr>\n",
       "  </tbody>\n",
       "</table>\n",
       "</div>"
      ],
      "text/plain": [
       "   userId  movieId  rating   timestamp                genres  \\\n",
       "0       1     4226     4.0  1425942228                Comedy   \n",
       "1       1    58559     4.0  1425942007                 Drama   \n",
       "2       1     1968     4.0  1425942148  Drama Comedy Romance   \n",
       "3       2      339     5.0   867041296          Comedy Drama   \n",
       "4       2      377     4.0   867041121                Horror   \n",
       "\n",
       "                                               title  total_rating_score  \n",
       "0  Shriek If You Know What I Did Last Friday the ...            4.138367  \n",
       "1               Confession of a Child of the Century            4.153002  \n",
       "2                                      Fools Rush In            3.789477  \n",
       "3                                     Night on Earth            3.497475  \n",
       "4                          A Nightmare on Elm Street            3.473982  "
      ]
     },
     "execution_count": 46,
     "metadata": {},
     "output_type": "execute_result"
    }
   ],
   "source": [
    "all_data.head()"
   ]
  },
  {
   "cell_type": "code",
   "execution_count": 47,
   "metadata": {},
   "outputs": [
    {
     "data": {
      "text/plain": [
       "(3428649, 7)"
      ]
     },
     "execution_count": 47,
     "metadata": {},
     "output_type": "execute_result"
    }
   ],
   "source": [
    "all_data.shape"
   ]
  },
  {
   "cell_type": "markdown",
   "metadata": {},
   "source": [
    "missing values"
   ]
  },
  {
   "cell_type": "code",
   "execution_count": 42,
   "metadata": {},
   "outputs": [],
   "source": [
    "all_data_null = all_data.isnull().sum()\n"
   ]
  },
  {
   "cell_type": "markdown",
   "metadata": {},
   "source": [
    "there is a lot of missing values in gender and title columns.\n",
    "it was preferable to remove them in the beginning before the sub-sample but i will do it right now"
   ]
  },
  {
   "cell_type": "code",
   "execution_count": 43,
   "metadata": {},
   "outputs": [],
   "source": [
    "all_data = all_data.dropna()"
   ]
  },
  {
   "cell_type": "markdown",
   "metadata": {},
   "source": [
    "There are a few things that can be done to the training data that could quickly improve a recommender system.\n",
    "1. Remove popular items from the training data.\n",
    "(This is appropriate in cases where users can discover these items on their own, and may not find these recommendations useful).\n",
    "\n",
    "2. Scale item ratings by the user’s value, such as average transaction value.\n",
    "This can help a model learn to recommend items that lead to loyal or high-value customers.\n",
    "\n",
    "in my case because i used hit rate evaluations i split the data-set as follows\n",
    "train - will be the most favorite movie of each user.\n",
    "test will be all the remaining movie that the user rated.\n",
    "will evaluate using the top 10 recommended movies\n",
    "first will drop all users that have less then 10 ratings"
   ]
  },
  {
   "cell_type": "code",
   "execution_count": 48,
   "metadata": {},
   "outputs": [],
   "source": [
    "def drop_less_ten(data):\n",
    "    count_group = data.groupby('userId').agg(num_count=('rating', 'count')).sort_values(by='num_count', ascending=False).reset_index()\n",
    "    less_then_ten = count_group.loc[count_group.num_count < 10, :]\n",
    "    less_then_ten_users_id = list(less_then_ten.userId)\n",
    "    less_index = data.loc[data.userId.isin(less_then_ten_users_id), :].index.to_list()\n",
    "    new_data = data.copy()\n",
    "    new_data = new_data.drop(less_index, axis=0).reset_index().drop('index', axis=1)\n",
    "    return new_data\n",
    "all_data_less_then_ten = drop_less_ten(data=all_data)"
   ]
  },
  {
   "cell_type": "code",
   "execution_count": 49,
   "metadata": {},
   "outputs": [
    {
     "data": {
      "text/plain": [
       "(2838355, 7)"
      ]
     },
     "execution_count": 49,
     "metadata": {},
     "output_type": "execute_result"
    }
   ],
   "source": [
    "all_data_less_then_ten.shape"
   ]
  },
  {
   "cell_type": "markdown",
   "metadata": {},
   "source": [
    "##  build the recommendations functions with movie title and rating \n",
    "##  Hybrid Recommender\n",
    "I will try to build a simple hybrid recommender that brings together techniques in the content based and collaborative filter based engines.\n",
    "\n",
    "model 1: \n",
    "This is how it will work:\n",
    "\n",
    "Input: User ID and the Title of favorite Movie\n",
    "\n",
    "Output: return Similar movies sorted by the best top 10 (rating in the similar group), in my case by average rating of that item.\n",
    "\n",
    "model 2: \n",
    "This is how it will work:\n",
    "\n",
    "Input: User ID and the genres of favorite Movie\n",
    "\n",
    "Output: same as model 1, return Similar movies sorted by the best top 10 (rating in the similar group), in my case by average rating of that item.\n",
    "\n",
    "it is possible of to sort on the basis of expected ratings by that particular user."
   ]
  },
  {
   "cell_type": "markdown",
   "metadata": {},
   "source": [
    "## TF-IDF matrix \n",
    "\n",
    "use scikit-learn built-in TfIdfVectorizer class that produces the TF-IDF matrix\n",
    "step 1. Define a TF-IDF Vectorizer Object. \n",
    "Remove all english stop words such as 'the', 'a'\n",
    "\n",
    "step2. Construct the required TF-IDF matrix by fitting and transforming the data\n",
    "there is 6055 different words were used to describe the 2,285,612 different titles for each user,\n",
    "of course there is duplicates (same movies for different users and same movies for different users )\n",
    "im going to deal with duplicates later.\n",
    "\n",
    "step 3.  compute a similarity score\n",
    "With this matrix in hand, we can now compute a similarity score.\n",
    "There are several candidates for this; such as the euclidean, the Pearson and the cosine similarity scores.\n",
    "Different scores work well in different scenarios.\n",
    "\n",
    "it is often a good idea to experiment with different metrics.\n",
    "\n",
    "I used the TF-IDF vectorizer, calculating the dot product will directly give us the cosine similarity score.\n",
    "Therefore,im using use sklearn's linear_kernel() instead of cosine_similarities() since it is faster.\n"
   ]
  },
  {
   "cell_type": "markdown",
   "metadata": {},
   "source": [
    "Compute the cosine similarity matrix"
   ]
  },
  {
   "cell_type": "code",
   "execution_count": null,
   "metadata": {},
   "outputs": [],
   "source": [
    "def get_similarity_matrix(data, column_name):\n",
    "    tf_idf = TfidfVectorizer(stop_words='english')\n",
    "    unique_column = data[column_name].unique()\n",
    "    tf_idf_matrix = tf_idf.fit_transform(unique_column)\n",
    "    cosine_sim_matrix = linear_kernel(tf_idf_matrix, tf_idf_matrix)\n",
    "    # Output the shape of tf_idf_title_matrix.\n",
    "    # print(tf_idf_matrix.shape)\n",
    "    return cosine_sim_matrix"
   ]
  },
  {
   "cell_type": "markdown",
   "metadata": {},
   "source": [
    "define a function that takes in a movie title and the rating scores as an input and outputs a list of the 10 recomended movies."
   ]
  },
  {
   "cell_type": "code",
   "execution_count": null,
   "metadata": {},
   "outputs": [],
   "source": [
    "# define a function that takes in a movie title and the rating scores as an input and outputs a list of the 10 recomended movies.\n",
    "def get_recommendations_by_item(item_column_name, item, cosine_sim, data):\n",
    "    # mechanism to identify the index of a movie in my metadata DataFrame, given its title.\n",
    "    indices = pd.DataFrame(data[[item_column_name]],index=data.index).drop_duplicates().reset_index().drop('index', axis=1)\n",
    "    # Get the index of the movie that matches the title\n",
    "    try:\n",
    "        idx = indices.loc[indices[item_column_name] == item].index[0]\n",
    "    except:\n",
    "        return print('ValueError: ', item ,' is not in list, try different item')\n",
    "\n",
    "    # Get the pairwsie similarity scores of all items with that item\n",
    "    sim_scores = list(enumerate(cosine_sim[idx]))\n",
    "\n",
    "    # Sort the items based on the similarity scores\n",
    "    sim_scores = sorted(sim_scores, key=lambda x: x[1], reverse=True)\n",
    "\n",
    "    # Get the scores of the 20 most similar items\n",
    "    top_sim_scores = sim_scores[1:21]\n",
    "\n",
    "    # Get the items indices\n",
    "    items_indices = [i[0] for i in top_sim_scores]\n",
    "    items_score = [i[1] for i in top_sim_scores]\n",
    "\n",
    "    # after getting the most similar items i sorted again by the 'total_rating_score' columns\n",
    "    # what happens is i get the highest rating of movies within the similar movies\n",
    "    top_items = indices.iloc[items_indices].copy()\n",
    "    top_df = data.loc[data[item_column_name].isin(list(top_items.iloc[:,0]))].drop_duplicates(subset=[item_column_name])\\\n",
    "        .sort_values(by='total_rating_score', ascending=False)\n",
    "    top_items_final = top_df['title']\n",
    "    # Return the top 10 most similar items\n",
    "    return top_items_final[0:10]\n",
    "\n",
    "# top_ten_by_title_and_rates = get_recommendations_by_item(item='Confession of a Child of the Century',\n",
    "#                                                          item_column_name='title' , cosine_sim=cosine_sim_matrix_title, \n",
    "#                                                          data=all_data)"
   ]
  },
  {
   "cell_type": "markdown",
   "metadata": {},
   "source": [
    "## get recommendations by user "
   ]
  },
  {
   "cell_type": "markdown",
   "metadata": {},
   "source": [
    "creat a fuction that taks a user id and return one of the users favorite movies "
   ]
  },
  {
   "cell_type": "code",
   "execution_count": null,
   "metadata": {},
   "outputs": [],
   "source": [
    "def get_user_favorite_movie(data, user_id):\n",
    "    user_df = data.loc[data.userId == user_id, :].sort_values(by='rating', ascending=False).reset_index().drop('index', axis=1)\n",
    "    favorite_movie = user_df.iloc[0,5]\n",
    "    favorit_genres = user_df.iloc[0,4]\n",
    "    return favorite_movie, favorit_genres\n",
    "# get_user_favorite_movie(data=all_data, user_id=1)"
   ]
  },
  {
   "cell_type": "markdown",
   "metadata": {},
   "source": [
    "get the recomendation of a user using the rating and title or genres"
   ]
  },
  {
   "cell_type": "code",
   "execution_count": null,
   "metadata": {},
   "outputs": [],
   "source": [
    "def get_recommendation_by_user(user, data, item_column_name):\n",
    "\n",
    "    best_movie, best_genres = get_user_favorite_movie(data=data , user_id=user)\n",
    "    if item_column_name == 'title':\n",
    "        similarity_matrix = get_similarity_matrix(data=data, column_name=item_column_name)\n",
    "        top_ten_by_movie = get_recommendations_by_item(item=best_movie, item_column_name=item_column_name,\n",
    "                                                       cosine_sim=similarity_matrix, data=data)\n",
    "        return top_ten_by_movie\n",
    "\n",
    "    elif item_column_name == 'genres':\n",
    "        similarity_matrix = get_similarity_matrix(data=data, column_name=item_column_name)\n",
    "        top_ten_by_genres = get_recommendations_by_item(item=best_genres, item_column_name=item_column_name,\n",
    "                                                        cosine_sim=similarity_matrix, data=data)\n",
    "        return top_ten_by_genres\n",
    "\n",
    "\n",
    "# movie, movie_tf = get_recommendation_by_user(user=2, data=all_data, item_column_name='title')\n",
    "# movie2, movie_tf2 = get_recommendation_by_user(user=2, data=all_data, item_column_name='genres')"
   ]
  },
  {
   "cell_type": "markdown",
   "metadata": {},
   "source": [
    "While the system has done a decent job of finding movies with similar plot descriptions,\n",
    "the quality of recommendations is not that great.\n",
    "it is possible to take not only the user favorite movie, \n",
    "but take all the movies a user watch or maybe take only the ones he liked.\n",
    "the quality of my recommendation system would be increased with the usage of better metadata."
   ]
  },
  {
   "cell_type": "code",
   "execution_count": null,
   "metadata": {},
   "outputs": [],
   "source": [
    "def get_recommendation_for_all(data, item):\n",
    "    list_top_ten = []\n",
    "    user_df = data.userId.unique()\n",
    "    for user in user_df:\n",
    "        top_ten = list(get_recommendation_by_user(user=user, data=data, item_column_name=item))\n",
    "        list_top_ten.append(top_ten)\n",
    "    user_df = pd.DataFrame(user_df, columns=['userId'])\n",
    "    user_df['recommendation'] = list_top_ten\n",
    "    return user_df\n",
    "data_title_recommendation = get_recommendation_for_all(data=all_data_less_then_ten.iloc[:10000, :], item='title')\n",
    "data_genres_recommendation = get_recommendation_for_all(data=all_data_less_then_ten.iloc[:10000, :], item='genres')"
   ]
  },
  {
   "cell_type": "markdown",
   "metadata": {},
   "source": [
    "##  Evaluation Metrics for Recommender Systems \n",
    "\n",
    "For evaluating recommendation engines, we can use the following metrics"
   ]
  },
  {
   "cell_type": "markdown",
   "metadata": {},
   "source": [
    "## Recall:\n",
    "What proportion of items that a user likes were actually recommended\n",
    "It is given by: recall = tp / tp + fn\n",
    "\n",
    "tp represents the number of items recommended to a user that he/she likes and tp+fn represents the total items that a user likes\n",
    "If a user likes 5 items and the recommendation engine decided to show 3 of them, then the recall will be 0.6\n",
    "Larger the recall, better are the recommendations\n"
   ]
  },
  {
   "cell_type": "code",
   "execution_count": null,
   "metadata": {},
   "outputs": [],
   "source": [
    "def calculate_recall(user_rating_data, results):\n",
    "    tp = 0\n",
    "    for item in results[0]:\n",
    "        if item in user_rating_data:\n",
    "            tp += 1\n",
    "    user_recall = tp / len(user_rating_data)\n",
    "    return user_recall\n",
    "\n",
    "def calculate_recall_for_all(data_user, data_results,item):\n",
    "    recall_list = []\n",
    "    for user in data_results.userId:\n",
    "        user_results = data_results.loc[data_results.userId == user,'recommendation'].to_list()\n",
    "        if item == 'title':\n",
    "            user_rate_data = data_user.loc[data_user.userId == user,'title'].to_list()\n",
    "        elif item == 'genres':\n",
    "            user_rate_data = data_user.loc[data_user.userId == user, 'title'].to_list()\n",
    "        recall_score = calculate_recall(user_rate_data,user_results)\n",
    "        recall_list.append(recall_score)\n",
    "    data_results['recall'] = recall_list\n",
    "    return data_results\n",
    "data_title_recommendation = calculate_recall_for_all(data_user=all_data_less_then_ten, data_results=data_title_recommendation, item='title')\n",
    "data_genres_recommendation = calculate_recall_for_all(data_user=all_data_less_then_ten, data_results=data_genres_recommendation, item='genres')"
   ]
  },
  {
   "cell_type": "code",
   "execution_count": null,
   "metadata": {},
   "outputs": [],
   "source": [
    "print('mean recall with genres prediction', data_genres_recommendation.recall.mean())"
   ]
  },
  {
   "cell_type": "code",
   "execution_count": null,
   "metadata": {},
   "outputs": [],
   "source": [
    "print('mean recall with title prediction', data_title_recommendation.recall.mean())"
   ]
  },
  {
   "cell_type": "markdown",
   "metadata": {},
   "source": [
    "## Precision:\n",
    "\n",
    "Out of all the recommended items, how many did the user actually like?\n",
    "It is given by:  precision = tp / tp + fp\n",
    "\n",
    "again tp represents the number of items recommended to a user that he/she likes and tp+fp represents the total items recommended to a user\n",
    "If 5 items were recommended to the user out of which he liked 4, then precision will be 0.8\n",
    "Larger the precision, better the recommendations\n",
    "\n",
    "our aim should be to maximize both precision and recall."
   ]
  },
  {
   "cell_type": "code",
   "execution_count": null,
   "metadata": {},
   "outputs": [],
   "source": [
    "def calculate_precision(user_rating_data, results):\n",
    "    tp = 0\n",
    "    for item in results[0]:\n",
    "        if item in user_rating_data:\n",
    "            tp += 1\n",
    "    precision = tp / len(results)\n",
    "    return precision\n",
    "\n",
    "\n",
    "def calculate_precision_for_all(data_user, data_results,item):\n",
    "    precision_list = []\n",
    "    for user in data_results.userId:\n",
    "        user_results = data_results.loc[data_results.userId == user, 'recommendation'].to_list()\n",
    "        if item == 'title':\n",
    "            user_rate_data = data_user.loc[data_user.userId == user, 'title'].to_list()\n",
    "        elif item == 'genres':\n",
    "            user_rate_data = data_user.loc[data_user.userId == user, 'title'].to_list()\n",
    "        precision_score = calculate_precision(user_rate_data, user_results)\n",
    "        precision_list.append(precision_score)\n",
    "    data_results['precision'] = precision_list\n",
    "    return data_results\n",
    "\n",
    "data_title_recommendation = calculate_precision_for_all(data_user=all_data_less_then_ten, data_results=data_title_recommendation, item='title')\n",
    "data_genres_recommendation = calculate_precision_for_all(data_user=all_data_less_then_ten, data_results=data_genres_recommendation, item='genres')\n"
   ]
  },
  {
   "cell_type": "code",
   "execution_count": null,
   "metadata": {},
   "outputs": [],
   "source": [
    "print('mean precision with genres prediction', data_genres_recommendation.precision.mean())\n"
   ]
  },
  {
   "cell_type": "code",
   "execution_count": null,
   "metadata": {},
   "outputs": [],
   "source": [
    "print('mean precision with title prediction', data_title_recommendation.precision.mean())"
   ]
  },
  {
   "cell_type": "markdown",
   "metadata": {},
   "source": [
    "## What is the pros and cons of using each model?\n",
    "\n",
    "Advantages of first model:\n",
    "it's obvious that the first model (from question 1) is more simple and less complex, which makes it easier to implement ,\n",
    "another good thing about this model is for new users which we don't have data on them it will be a good start to use it.\n",
    "\n",
    "Disadvantages of first model:\n",
    "its a generic model, it will give the same prediction to every user regarding the user likes or dislikes.\n",
    "\n",
    "Advantages of second model (without genres):\n",
    "its more personalized then the first, its using the title of the movie user liked, but it uses similarity (in this case of the vecture of words),\n",
    "not really an accurate,\n",
    "\n",
    "Disadvantages of second model (with genres):\n",
    "again can give wrong output that don't relate to the user.\n",
    "\n",
    "Advantages of third model (without genres):\n",
    "its more personalized then the first and the second, its using the genres of the movie user liked,\n",
    "more accurate then the rest.\n",
    "because we used a hybrid model that after finding the most similar movies by gender it sort and takes the top rating in them\n",
    "\n",
    "Disadvantages of third model (with genres):\n",
    "like all of them we can get more personal data to make them more accurate, the third model is still very simple.\n",
    "i didn't get into taking data from similar users for predictions, i think this is very importent if you want to recommend new items to user\n",
    "\n",
    "another important issue is that i used only used one movie from each user, its more simple and quick that way, but if the company have more robust computers it's better to use all of the user history.\n",
    "\n",
    "\n",
    "## is it justified? Should the company use a static model (from question 1) or a more advanced and personal model like in question 3?\n",
    "i think the first model is a start model for new user and the last model is more advanced for old users, still they both need more tuning.\n",
    "\n",
    "## How would you monitor and measure the effectiveness of these models once they go live?\n",
    "of course we need to update the user data every time we want to recommend in a new item.\n",
    "i would say precision is a good kpi to start with. "
   ]
  }
 ],
 "metadata": {
  "kernelspec": {
   "display_name": "Python 3",
   "language": "python",
   "name": "python3"
  },
  "language_info": {
   "codemirror_mode": {
    "name": "ipython",
    "version": 3
   },
   "file_extension": ".py",
   "mimetype": "text/x-python",
   "name": "python",
   "nbconvert_exporter": "python",
   "pygments_lexer": "ipython3",
   "version": "3.7.6"
  }
 },
 "nbformat": 4,
 "nbformat_minor": 4
}
